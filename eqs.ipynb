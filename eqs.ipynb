{
 "cells": [
  {
   "cell_type": "code",
   "execution_count": 4,
   "metadata": {},
   "outputs": [],
   "source": [
    "import sympy as sp\n"
   ]
  },
  {
   "cell_type": "code",
   "execution_count": 1,
   "metadata": {},
   "outputs": [
    {
     "name": "stdout",
     "output_type": "stream",
     "text": [
      "-2*A**2*s/sqrt(V) + s**3*(-8*A**6/(3*V**(3/2)) + 2*A**4*(sqrt(V) + V**(3/2)/A**2)/V + 4*A**2*sqrt(V)/3) + s**2*(2*A**4/V - A**2 - V)\n",
      "$$ - \\frac{2 A^{2} s}{\\sqrt{V}} + s^{3} \\left(- \\frac{8 A^{6}}{3 V^{\\frac{3}{2}}} + \\frac{2 A^{4} \\left(\\sqrt{V} + \\frac{V^{\\frac{3}{2}}}{A^{2}}\\right)}{V} + \\frac{4 A^{2} \\sqrt{V}}{3}\\right) + s^{2} \\left(\\frac{2 A^{4}}{V} - A^{2} - V\\right) $$\n"
     ]
    }
   ],
   "source": [
    "import sympy as sp\n",
    "\n",
    "# Define symbolic variables correctly\n",
    "V, A, s = sp.symbols('V A s')\n",
    "\n",
    "def f(V, A, s, k):\n",
    "    S = 0\n",
    "    term1 = 0\n",
    "    term2 = 0\n",
    "    term3 = 0\n",
    "    for i in range(k):\n",
    "        # term = (-1)**i * V**i / sp.factorial(2*i) * s**(2*i)\n",
    "        # term += A*(-1)**i * V**i / sp.factorial(2*i+1) * s**(2*i+1)\n",
    "        # S += term\n",
    "        term1 += (-1)**i *(s*sp.sqrt(V))**(2*i+1) / sp.factorial(2*i+1)\n",
    "        term2 += A/sp.sqrt(V) *(-1)**i *(2*s*sp.sqrt(V))**(2*i+1) / sp.factorial(2*i+1)\n",
    "        term3 += (s*sp.sqrt(V))**(2*i) / sp.factorial(2*i)\n",
    "\n",
    "    S += A**2/V*term1**2 + A/sp.sqrt(V)*term2 + term3**2\n",
    "    return S\n",
    "    \n",
    "\n",
    "k_value = 6\n",
    "result = f(V, A, s, k_value,)\n",
    "latex_output = sp.latex(result)\n",
    "markdown_output = f\"$$ {latex_output} $$\"\n",
    "result = result - 1\n",
    "result = -result + result**2 / 2 - result**3 / 3 + result**4 / 4 \n",
    "\n",
    "# Truncate terms higher than a given order (e.g., order 6 in 's')\n",
    "order = 4  # Change this to your desired order\n",
    "truncated_result = result.series(s, 0, order).removeO()\n",
    "result = (truncated_result)\n",
    "print(result)\n",
    "latex_output = sp.latex(result)\n",
    "markdown_output = f\"$$ {latex_output} $$\"\n",
    "print(markdown_output)\n"
   ]
  },
  {
   "cell_type": "markdown",
   "metadata": {},
   "source": [
    "$$ - A s + s^{4} \\left(\\frac{A^{4}}{4} + \\frac{A^{2} V}{2} + \\frac{A^{2} \\left(- \\frac{V}{3} + \\frac{V^{2}}{4 A^{2}}\\right)}{2} - \\frac{V^{2}}{24}\\right) + s^{3} \\left(- \\frac{A^{3}}{3} - \\frac{A V}{3}\\right) + s^{2} \\left(\\frac{A^{2}}{2} + \\frac{V}{2}\\right) $$"
   ]
  },
  {
   "cell_type": "markdown",
   "metadata": {},
   "source": [
    "$$ - \\frac{2 A^{2} s}{\\sqrt{V}} + s^{3} \\left(- \\frac{8 A^{6}}{3 V^{\\frac{3}{2}}} + \\frac{2 A^{4} \\left(\\sqrt{V} + \\frac{V^{\\frac{3}{2}}}{A^{2}}\\right)}{V} + \\frac{4 A^{2} \\sqrt{V}}{3}\\right) + s^{2} \\left(\\frac{2 A^{4}}{V} - A^{2} - V\\right) $$"
   ]
  },
  {
   "cell_type": "code",
   "execution_count": 2,
   "metadata": {},
   "outputs": [
    {
     "name": "stdout",
     "output_type": "stream",
     "text": [
      "V**1.5*(-4*F/V + 4*V + sqrt(8*(-8*S + 16*V**6)/V**1.0 + (4*F/V - 4*V)**2))/(2*(-8*S + 16*V**6))\n",
      "$$ \\frac{V^{1.5} \\left(- \\frac{4 F}{V} + 4 V + \\sqrt{\\frac{8 \\left(- 8 S + 16 V^{6}\\right)}{V^{1.0}} + \\left(\\frac{4 F}{V} - 4 V\\right)^{2}}\\right)}{2 \\left(- 8 S + 16 V^{6}\\right)} $$\n"
     ]
    }
   ],
   "source": [
    "F, S = sp.symbols('F S')\n",
    "\n",
    "c = -2*sp.sqrt(V)\n",
    "b = 4*(F/V-V)\n",
    "a = (16*V**6 - 8*S)/V**(3/2)\n",
    "\n",
    "disc = b**2 - 4*a*c\n",
    "sol = (-b + sp.sqrt(disc))/(2*a)\n",
    "\n",
    "print(sol)\n",
    "latex_output = sp.latex(sol)\n",
    "markdown_output = f\"$$ {latex_output} $$\"\n",
    "print(markdown_output)"
   ]
  },
  {
   "cell_type": "code",
   "execution_count": 3,
   "metadata": {},
   "outputs": [
    {
     "name": "stdout",
     "output_type": "stream",
     "text": [
      "$$ - \\frac{4 H \\left(\\frac{H \\sin{\\left(\\sqrt{V} s \\right)}}{\\sqrt{V}} + \\cos{\\left(\\sqrt{V} s \\right)}\\right)^{3} \\sin{\\left(\\sqrt{V} s \\right)}}{\\sqrt{V}} + \\frac{6 H_{2} \\left(\\frac{H \\sin{\\left(\\sqrt{V} s \\right)}}{\\sqrt{V}} + \\cos{\\left(\\sqrt{V} s \\right)}\\right)^{2} \\sin^{2}{\\left(\\sqrt{V} s \\right)}}{V} - \\frac{H_{3} \\left(\\frac{4 H \\sin{\\left(\\sqrt{V} s \\right)}}{\\sqrt{V}} + 4 \\cos{\\left(\\sqrt{V} s \\right)}\\right) \\sin^{3}{\\left(\\sqrt{V} s \\right)}}{V^{\\frac{3}{2}}} + \\frac{H_{4} \\sin^{4}{\\left(\\sqrt{V} s \\right)}}{V^{2}} + \\left(\\frac{H \\sin{\\left(\\sqrt{V} s \\right)}}{\\sqrt{V}} + \\cos{\\left(\\sqrt{V} s \\right)}\\right)^{4} $$\n",
      "$$ s^{4} \\left(H^{4} - 6 H^{2} V - 4 H H_{3} - 4 H \\left(H^{3} - \\frac{7 H V}{2}\\right) - 2 H_{2} V + 6 H_{2} \\left(H^{2} - V\\right) + H_{4} + \\frac{5 V^{2}}{3}\\right) + s^{3} \\left(4 H^{3} + 12 H H_{2} - 6 H V - 4 H \\left(3 H^{2} - \\frac{3 V}{2}\\right) - 4 H_{3}\\right) + s^{2} \\left(- 6 H^{2} + 6 H_{2} - 2 V\\right) + 1 $$\n"
     ]
    }
   ],
   "source": [
    "H, H2, H3, H4, = sp.symbols('H H2 H3 H4')\n",
    "\n",
    "a = H/sp.sqrt(V)*sp.sin(sp.sqrt(V)*s) + sp.cos(sp.sqrt(V)*s)\n",
    "b = -1/sp.sqrt(V)*sp.sin(sp.sqrt(V)*s)\n",
    "\n",
    "expr = a**4+4*a**3*b*H+6*a**2*b**2*H2+4*a*b**3*H3+b**4*H4\n",
    "latex_output = sp.latex(expr)\n",
    "markdown_output = f\"$$ {latex_output} $$\"\n",
    "print(markdown_output)\n",
    "\n",
    "order = 5 # Change this to your desired order\n",
    "truncated_result = expr.series(s, 0, order).removeO()\n",
    "latex_output = sp.latex(truncated_result)\n",
    "markdown_output = f\"$$ {latex_output} $$\"\n",
    "print(markdown_output)"
   ]
  },
  {
   "cell_type": "markdown",
   "metadata": {},
   "source": [
    "$$ s^{4} \\left(H^{4} - 6 H^{2} V - 4 H H_{3} - 4 H \\left(H^{3} - \\frac{7 H V}{2}\\right) - 2 H_{2} V + 6 H_{2} \\left(H^{2} - V\\right) + H_{4} + \\frac{5 V^{2}}{3}\\right) + s^{3} \\left(4 H^{3} + 12 H H_{2} - 6 H V - 4 H \\left(3 H^{2} - \\frac{3 V}{2}\\right) - 4 H_{3}\\right) + s^{2} \\left(- 6 H^{2} + 6 H_{2} - 2 V\\right) + 1 $$"
   ]
  },
  {
   "cell_type": "markdown",
   "metadata": {},
   "source": []
  }
 ],
 "metadata": {
  "kernelspec": {
   "display_name": ".venv",
   "language": "python",
   "name": "python3"
  },
  "language_info": {
   "codemirror_mode": {
    "name": "ipython",
    "version": 3
   },
   "file_extension": ".py",
   "mimetype": "text/x-python",
   "name": "python",
   "nbconvert_exporter": "python",
   "pygments_lexer": "ipython3",
   "version": "3.11.1"
  }
 },
 "nbformat": 4,
 "nbformat_minor": 2
}
